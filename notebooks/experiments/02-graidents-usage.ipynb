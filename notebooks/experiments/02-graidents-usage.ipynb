{
 "cells": [
  {
   "cell_type": "code",
   "execution_count": 2,
   "id": "cb89ddff",
   "metadata": {},
   "outputs": [],
   "source": [
    "import os\n",
    "import sys\n",
    "import time\n",
    "import pickle\n",
    "\n",
    "import matplotlib.pyplot as plt\n",
    "\n",
    "import numpy as np\n",
    "\n",
    "import torch\n",
    "import torch.nn as nn\n",
    "import torch.nn.functional as F\n",
    "\n",
    "import wandb"
   ]
  },
  {
   "cell_type": "code",
   "execution_count": 3,
   "id": "5720a583",
   "metadata": {},
   "outputs": [],
   "source": [
    "from torchmetrics import Accuracy"
   ]
  },
  {
   "cell_type": "code",
   "execution_count": 4,
   "id": "c41db844",
   "metadata": {},
   "outputs": [],
   "source": [
    "root_path = os.path.join(os.getcwd().split('cbo-in-python')[0], 'cbo-in-python')\n",
    "\n",
    "sys.path.append(root_path)"
   ]
  },
  {
   "cell_type": "code",
   "execution_count": 5,
   "id": "f5463926",
   "metadata": {},
   "outputs": [],
   "source": [
    "from src.datasets import load_mnist_dataloaders\n",
    "from src.torch.models import *\n",
    "from src.torch import Optimizer, Loss"
   ]
  },
  {
   "cell_type": "code",
   "execution_count": 6,
   "id": "cd8e13b3",
   "metadata": {},
   "outputs": [],
   "source": [
    "IMAGES_FOLDER = os.path.join(os.getcwd(), 'plots')\n",
    "\n",
    "os.makedirs(IMAGES_FOLDER, exist_ok=True)"
   ]
  },
  {
   "cell_type": "code",
   "execution_count": 7,
   "id": "6319e953",
   "metadata": {},
   "outputs": [],
   "source": [
    "device = torch.device('cuda') if torch.cuda.is_available() else torch.device('gpu')"
   ]
  },
  {
   "cell_type": "code",
   "execution_count": 8,
   "id": "05297910",
   "metadata": {},
   "outputs": [],
   "source": [
    "epochs = 25\n",
    "batch_size = 60\n",
    "particles_batch_size = 10\n",
    "\n",
    "n_particles = 100\n",
    "alpha = 50\n",
    "sigma = 0.4 ** 0.5\n",
    "l = 1\n",
    "dt = 0.1\n",
    "anisotropic = True\n",
    "eps = 1e-2\n",
    "\n",
    "partial_update = False\n",
    "\n",
    "use_multiprocessing=False\n",
    "n_processes = 4"
   ]
  },
  {
   "cell_type": "code",
   "execution_count": 9,
   "id": "86c29da0",
   "metadata": {},
   "outputs": [],
   "source": [
    "train_dataloader, test_dataloader = load_mnist_dataloaders(train_batch_size=batch_size,\n",
    "                                                           test_batch_size=batch_size)"
   ]
  },
  {
   "cell_type": "code",
   "execution_count": 10,
   "id": "d190d432",
   "metadata": {},
   "outputs": [],
   "source": [
    "n_batches = len(train_dataloader)"
   ]
  },
  {
   "cell_type": "code",
   "execution_count": 11,
   "id": "eb845f63",
   "metadata": {},
   "outputs": [],
   "source": [
    "eval_freq = 100"
   ]
  },
  {
   "cell_type": "code",
   "execution_count": 12,
   "id": "924b5eb8",
   "metadata": {},
   "outputs": [],
   "source": [
    "def evaluate(model, X_, y_):\n",
    "    with torch.no_grad():\n",
    "        outputs = model(X_)\n",
    "        y_pred = torch.argmax(outputs, dim=1)\n",
    "        loss = loss_fn(outputs, y_)\n",
    "        acc = accuracy(y_pred.cpu(), y_.cpu())\n",
    "    return loss, acc\n",
    "\n",
    "def log(loss, acc, epoch, stage='train', shift_norm=None):\n",
    "    wandb.log({\n",
    "        f'{stage}_loss': loss,\n",
    "        f'{stage}_acc': acc,\n",
    "        'epoch': epoch,\n",
    "        f'{stage}_shift_norm': shift_norm,\n",
    "    })"
   ]
  },
  {
   "cell_type": "code",
   "execution_count": 12,
   "id": "a8fd543e",
   "metadata": {},
   "outputs": [],
   "source": [
    "results = {}"
   ]
  },
  {
   "cell_type": "code",
   "execution_count": 13,
   "id": "d326d894",
   "metadata": {},
   "outputs": [
    {
     "name": "stderr",
     "output_type": "stream",
     "text": [
      "/home/itukh/anaconda3/envs/py39/lib/python3.9/site-packages/torch/nn/modules/container.py:141: UserWarning: Implicit dimension choice for log_softmax has been deprecated. Change the call to include dim=X as an argument.\n",
      "  input = module(input)\n"
     ]
    },
    {
     "name": "stdout",
     "output_type": "stream",
     "text": [
      "Epoch: 25/25, batch: 1000/1000, train loss:    0.263, train acc:    0.917, val loss:    0.477, val acc:    0.853\r"
     ]
    },
    {
     "ename": "NameError",
     "evalue": "name 'results' is not defined",
     "output_type": "error",
     "traceback": [
      "\u001b[0;31m---------------------------------------------------------------------------\u001b[0m",
      "\u001b[0;31mNameError\u001b[0m                                 Traceback (most recent call last)",
      "Input \u001b[0;32mIn [13]\u001b[0m, in \u001b[0;36m<cell line: 1>\u001b[0;34m()\u001b[0m\n\u001b[1;32m     44\u001b[0m     train_accuracies\u001b[38;5;241m.\u001b[39mappend(np\u001b[38;5;241m.\u001b[39mmean(epoch_train_accuracies))\n\u001b[1;32m     45\u001b[0m     train_losses\u001b[38;5;241m.\u001b[39mappend(np\u001b[38;5;241m.\u001b[39mmean(epoch_train_losses))\n\u001b[0;32m---> 47\u001b[0m \u001b[43mresults\u001b[49m[gamma] \u001b[38;5;241m=\u001b[39m (np\u001b[38;5;241m.\u001b[39marray(train_accuracies), np\u001b[38;5;241m.\u001b[39marray(train_losses),\n\u001b[1;32m     48\u001b[0m                   np\u001b[38;5;241m.\u001b[39marray(val_accuracies), np\u001b[38;5;241m.\u001b[39marray(val_losses))\n",
      "\u001b[0;31mNameError\u001b[0m: name 'results' is not defined"
     ]
    }
   ],
   "source": [
    "for gamma in [1, 10, 100]:\n",
    "    model = SmallMLP().to(device)\n",
    "    optimizer = Optimizer(model, n_particles=n_particles, alpha=alpha, sigma=sigma,\n",
    "                          l=l, dt=dt, anisotropic=anisotropic, eps=eps, partial_update=partial_update,\n",
    "                          use_multiprocessing=use_multiprocessing, n_processes=n_processes,\n",
    "                          particles_batch_size=particles_batch_size, device=device, gamma=gamma)\n",
    "    loss_fn = Loss(F.nll_loss, optimizer)\n",
    "    accuracy = Accuracy()\n",
    "\n",
    "    train_accuracies = []\n",
    "    train_losses = []\n",
    "    val_accuracies = []\n",
    "    val_losses = []\n",
    "\n",
    "    for epoch in range(epochs):\n",
    "        epoch_train_accuracies = []\n",
    "        epoch_train_losses = []\n",
    "        for batch, (X, y) in enumerate(train_dataloader):\n",
    "            X, y = X.to(device), y.to(device)\n",
    "            train_loss, train_acc = evaluate(model, X, y)\n",
    "            epoch_train_accuracies.append(train_acc)\n",
    "            epoch_train_losses.append(train_loss.cpu())\n",
    "\n",
    "            optimizer.zero_grad()\n",
    "            loss_fn.backward(X, y, backward_gradients=True)\n",
    "            optimizer.step()\n",
    "\n",
    "            if batch % eval_freq == 0 or batch == n_batches - 1:\n",
    "                with torch.no_grad():\n",
    "                    losses = []\n",
    "                    accuracies = []\n",
    "                    for X_test, y_test in test_dataloader:\n",
    "                        X_test, y_test = X_test.to(device), y_test.to(device)\n",
    "                        loss, acc = evaluate(model, X_test, y_test)\n",
    "                        losses.append(loss.cpu())\n",
    "                        accuracies.append(acc.cpu())\n",
    "                    val_loss, val_acc = np.mean(losses), np.mean(accuracies)\n",
    "                    if batch == n_batches - 1:\n",
    "                        val_accuracies.append(val_acc)\n",
    "                        val_losses.append(val_loss)\n",
    "\n",
    "                print(f'Epoch: {epoch + 1:2}/{epochs}, batch: {batch + 1:4}/{n_batches}, train loss: {train_loss:8.3f}, train acc: {train_acc:8.3f}, val loss: {val_loss:8.3f}, val acc: {val_acc:8.3f}',\n",
    "                      end='\\r')\n",
    "        train_accuracies.append(np.mean(epoch_train_accuracies))\n",
    "        train_losses.append(np.mean(epoch_train_losses))\n",
    "    \n",
    "    results[gamma] = (np.array(train_accuracies), np.array(train_losses),\n",
    "                      np.array(val_accuracies), np.array(val_losses))"
   ]
  },
  {
   "cell_type": "code",
   "execution_count": null,
   "id": "42ac65cf",
   "metadata": {},
   "outputs": [],
   "source": [
    "with open('results_gradients_upd.pkl', 'wb') as pkl_file:\n",
    "    pickle.dump(results, pkl_file)"
   ]
  },
  {
   "cell_type": "code",
   "execution_count": null,
   "id": "d431c53b",
   "metadata": {},
   "outputs": [],
   "source": [
    "with open('results_gradients_upd.pkl', 'rb') as pkl_file:\n",
    "    results = pickle.load(pkl_file)"
   ]
  },
  {
   "cell_type": "code",
   "execution_count": null,
   "id": "6c0c3207",
   "metadata": {},
   "outputs": [],
   "source": [
    "plt.rcParams['figure.figsize'] = (20, 20)\n",
    "plt.rcParams['font.size'] = 25\n",
    "plt.rcParams['text.usetex'] = True"
   ]
  },
  {
   "cell_type": "code",
   "execution_count": null,
   "id": "1c4d3e3b",
   "metadata": {},
   "outputs": [],
   "source": [
    "epochs = 25\n",
    "epochs_range = np.arange(epochs)\n",
    "\n",
    "plt.clf()\n",
    "\n",
    "fig, axs = plt.subplots(2, 2)\n",
    "plt.suptitle('Gradients usage, SmallMLP')\n",
    "\n",
    "for ax in [axs[0][0], axs[0][1]]:\n",
    "    ax.set_xlabel('epoch')\n",
    "    ax.set_ylabel('Accuracy')\n",
    "\n",
    "for ax in [axs[1][0], axs[1][1]]:\n",
    "    ax.set_xlabel('epoch')\n",
    "    ax.set_ylabel('Loss')\n",
    "    \n",
    "axs[0][0].set_title('Train accuracy')\n",
    "axs[0][1].set_title('Test accuracy')\n",
    "axs[1][0].set_title('Train loss')\n",
    "axs[1][1].set_title('Test loss')\n",
    "\n",
    "for gamma, (train_acc, train_loss, test_acc, test_loss) in results.items():\n",
    "    label = fr'$\\gamma$ = {gamma}'\n",
    "    axs[0][0].plot(epochs_range, train_acc, label=label)\n",
    "    axs[0][1].plot(epochs_range, test_acc, label=label)\n",
    "    axs[1][0].plot(epochs_range, train_loss, label=label)\n",
    "    axs[1][1].plot(epochs_range, test_loss, label=label)\n",
    "\n",
    "for ax in [axs[0][0], axs[0][1], axs[1][0], axs[1][1]]:\n",
    "    ax.legend()\n",
    "\n",
    "plt.savefig(os.path.join(IMAGES_FOLDER, 'gradients_small_mlp_upd.png'))\n",
    "plt.show()"
   ]
  },
  {
   "cell_type": "code",
   "execution_count": null,
   "id": "4e2f6191",
   "metadata": {},
   "outputs": [],
   "source": [
    "epochs = 100\n",
    "\n",
    "model = SmallMLP().to(device)\n",
    "optimizer = Optimizer(model, n_particles=n_particles, alpha=alpha, sigma=sigma,\n",
    "                      l=l, dt=dt, anisotropic=anisotropic, eps=eps, partial_update=partial_update,\n",
    "                      use_multiprocessing=use_multiprocessing, n_processes=n_processes,\n",
    "                      particles_batch_size=particles_batch_size, device=device)\n",
    "loss_fn = Loss(F.nll_loss, optimizer)\n",
    "accuracy = Accuracy()\n",
    "\n",
    "train_accuracies = []\n",
    "train_losses = []\n",
    "val_accuracies = []\n",
    "val_losses = []\n",
    "\n",
    "for epoch in range(epochs):\n",
    "    epoch_train_accuracies = []\n",
    "    epoch_train_losses = []\n",
    "    for batch, (X, y) in enumerate(train_dataloader):\n",
    "        X, y = X.to(device), y.to(device)\n",
    "        train_loss, train_acc = evaluate(model, X, y)\n",
    "        epoch_train_accuracies.append(train_acc)\n",
    "        epoch_train_losses.append(train_loss.cpu())\n",
    "\n",
    "        optimizer.zero_grad()\n",
    "        loss_fn.backward(X, y, backward_gradients=False)\n",
    "        optimizer.step()\n",
    "\n",
    "        if batch % eval_freq == 0 or batch == n_batches - 1:\n",
    "            with torch.no_grad():\n",
    "                losses = []\n",
    "                accuracies = []\n",
    "                for X_test, y_test in test_dataloader:\n",
    "                    X_test, y_test = X_test.to(device), y_test.to(device)\n",
    "                    loss, acc = evaluate(model, X_test, y_test)\n",
    "                    losses.append(loss.cpu())\n",
    "                    accuracies.append(acc.cpu())\n",
    "                val_loss, val_acc = np.mean(losses), np.mean(accuracies)\n",
    "                if batch == n_batches - 1:\n",
    "                    val_accuracies.append(val_acc)\n",
    "                    val_losses.append(val_loss)\n",
    "\n",
    "            print(f'Epoch: {epoch + 1:2}/{epochs}, batch: {batch + 1:4}/{n_batches}, train loss: {train_loss:8.3f}, train acc: {train_acc:8.3f}, val loss: {val_loss:8.3f}, val acc: {val_acc:8.3f}',\n",
    "                  end='\\r')\n",
    "    train_accuracies.append(np.mean(epoch_train_accuracies))\n",
    "    train_losses.append(np.mean(epoch_train_losses))\n",
    "    \n",
    "results = (np.array(train_accuracies), np.array(train_losses), np.array(val_accuracies), np.array(val_losses))\n",
    "\n",
    "with open('small_mlp_100_epochs.pkl', 'wb') as pkl_file:\n",
    "    pickle.dump(results, pkl_file)"
   ]
  }
 ],
 "metadata": {
  "kernelspec": {
   "display_name": "Python 3 (ipykernel)",
   "language": "python",
   "name": "python3"
  },
  "language_info": {
   "codemirror_mode": {
    "name": "ipython",
    "version": 3
   },
   "file_extension": ".py",
   "mimetype": "text/x-python",
   "name": "python",
   "nbconvert_exporter": "python",
   "pygments_lexer": "ipython3",
   "version": "3.9.13"
  }
 },
 "nbformat": 4,
 "nbformat_minor": 5
}

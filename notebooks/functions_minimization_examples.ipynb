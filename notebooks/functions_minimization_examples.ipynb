{
 "cells": [
  {
   "cell_type": "markdown",
   "metadata": {},
   "source": [
    "# Functions minimization with this CBO implementation"
   ]
  },
  {
   "cell_type": "markdown",
   "metadata": {},
   "source": [
    "This notebook gives a brief introduction to how to use the CBO implementation provided in the repo."
   ]
  },
  {
   "cell_type": "markdown",
   "metadata": {},
   "source": [
    "First of all, it is required to add the path to the `src` folder of this repo to `sys.path`. For example, in the case of this notebook, it can be specified as follows:"
   ]
  },
  {
   "cell_type": "code",
   "execution_count": 1,
   "metadata": {},
   "outputs": [],
   "source": [
    "import os\n",
    "import sys\n",
    "sys.path.append(os.path.join(os.pardir, 'src'))"
   ]
  },
  {
   "cell_type": "markdown",
   "metadata": {},
   "source": [
    "An alternative approach is to update the `PYTHONPATH` environment variable."
   ]
  },
  {
   "cell_type": "markdown",
   "metadata": {},
   "source": [
    "## Minimize"
   ]
  },
  {
   "cell_type": "markdown",
   "metadata": {},
   "source": [
    "For exploratory purposes, it might be helpful to apply CBO for optimizing functions, which aren't losses. This implementation provides an ad hoc interface through the `minimize` function:"
   ]
  },
  {
   "cell_type": "code",
   "execution_count": 2,
   "metadata": {},
   "outputs": [],
   "source": [
    "from CBO.minimize import minimize"
   ]
  },
  {
   "cell_type": "markdown",
   "metadata": {},
   "source": [
    "This function takes multiple arguments:\n",
    "* `objective`: functions to minimizer, see more below;\n",
    "* `dimensionality`: dimensionality of the `objective` function domain;\n",
    "* `n_particles`: number of particles to use in the dynamics;\n",
    "* `time_horizon`: optimization time horizon;\n",
    "* `optimizer_config`: config to pass to the optimizer, see more below;\n",
    "* `initial_distribution`: initial distribution to sample the particles from, see more below;\n",
    "* `return_trajectory`: bool flag, when set, the function call will also return the optimization trajectory (to use in the visualizations);\n",
    "* `return_trajectory`: show progress bar.\n",
    "It returns the resulting point and optionally the trajectory (if `return_trajectory` set)."
   ]
  },
  {
   "cell_type": "markdown",
   "metadata": {},
   "source": [
    "### `objective`"
   ]
  },
  {
   "cell_type": "markdown",
   "metadata": {},
   "source": [
    "The passed objective function should be compatible with the TensorFlow operations. Thus, if it uses the mathematical operations, they should be supported on the TensorFlow tensors. Some functions are already implemented in the `CBO.functions`:"
   ]
  },
  {
   "cell_type": "code",
   "execution_count": 3,
   "metadata": {},
   "outputs": [],
   "source": [
    "from CBO.functions import rastrigin, rastrigin_c, square"
   ]
  },
  {
   "cell_type": "markdown",
   "metadata": {},
   "source": [
    "For example, the rastrigin function with a constant `c` can be implemented in the following way:\n",
    "```\n",
    "import tensorflow as tf\n",
    "\n",
    "def rastrigin_c(c):\n",
    "    tf.reduce_sum(v ** 2 - c * tf.math.cos(2 * np.pi * v)) + c * tf.cast(tf.size(v), tf.float32)\n",
    "```"
   ]
  },
  {
   "cell_type": "markdown",
   "metadata": {},
   "source": [
    "However, if the objective function can be expressed via the native Python, it is possible to pass it as lambda instead. For example\n",
    "```\n",
    "lambda v: v**2 + v**3 / 2\n",
    "```\n",
    "is a valid objective function."
   ]
  },
  {
   "cell_type": "markdown",
   "metadata": {},
   "source": [
    "### `optimizer_config`"
   ]
  },
  {
   "cell_type": "markdown",
   "metadata": {},
   "source": [
    "This configuration can be specified as a dictionary with the optimization hyperparameters. More specifically, the dict may only have keys from the following list:\n",
    "* `dt`: optimization step;\n",
    "* `lmbda`: lambda hyperparameter from CBO;\n",
    "* `sigma`: sigma hyperparameter from CBO;\n",
    "* `alpha`: alpha hyperparameter from CBO;\n",
    "* `anisotropic`: bool flag, which indicates if the noise should be isotropic or anisotropic."
   ]
  },
  {
   "cell_type": "markdown",
   "metadata": {},
   "source": [
    "A `DEFAULT_OPTIMIZER_CONFIG` below is a valid example of the config."
   ]
  },
  {
   "cell_type": "markdown",
   "metadata": {},
   "source": [
    "When a specific argument is omitted in the configuration, its' default values is used. Default argument values:\n",
    "```\n",
    "DEFAULT_OPTIMIZER_CONFIG = {\n",
    "    'dt': 0.02,\n",
    "    'lmbda': 1,\n",
    "    'sigma': 1,\n",
    "    'alpha': 100,\n",
    "    'anisotropic': True,\n",
    "}\n",
    "```"
   ]
  },
  {
   "cell_type": "markdown",
   "metadata": {},
   "source": [
    "### `initial_distribution`"
   ]
  },
  {
   "cell_type": "markdown",
   "metadata": {},
   "source": [
    "Initial distribution should be a distribution from the `TensorFlow Probability` library. For convinience, some distributions are provided in the `CBO.distributions`:"
   ]
  },
  {
   "cell_type": "code",
   "execution_count": 4,
   "metadata": {},
   "outputs": [],
   "source": [
    "from CBO.distributions import Normal"
   ]
  },
  {
   "cell_type": "markdown",
   "metadata": {},
   "source": [
    "A distribution imported above is a ready-to-use distribution, which takes `loc` and `scale` as arguments."
   ]
  },
  {
   "cell_type": "markdown",
   "metadata": {},
   "source": [
    "Let's consider the following example:"
   ]
  },
  {
   "cell_type": "code",
   "execution_count": null,
   "metadata": {},
   "outputs": [
    {
     "name": "stderr",
     "output_type": "stream",
     "text": [
      " 85%|████████▌ | 86/101 [00:14<00:02,  6.34it/s]"
     ]
    }
   ],
   "source": [
    "minimizer, trajectory = minimize(rastrigin_c(2.5), dimensionality=1, n_particles=100, time_horizon=2, \n",
    "                                  return_trajectory=True, optimizer_config = {\n",
    "                                      'alpha': 1000,\n",
    "                                      'sigma': 0.2,\n",
    "                                  },\n",
    "                                  initial_distribution=Normal(2, 3))"
   ]
  },
  {
   "cell_type": "markdown",
   "metadata": {},
   "source": [
    "The function call above returned the `minimizer` and `trajectory`. `minimizer` is a TensorFlow tensor:"
   ]
  },
  {
   "cell_type": "code",
   "execution_count": null,
   "metadata": {},
   "outputs": [],
   "source": [
    "minimizer"
   ]
  },
  {
   "cell_type": "markdown",
   "metadata": {},
   "source": [
    "`trajectory` is a dict, which for each timestamp of optimization tracks the location of all the particles as well as the consensus point. It can be used for the visualization purposes. `CBO.visualizations` provides some ready-to-use visualization functions. For example:"
   ]
  },
  {
   "cell_type": "markdown",
   "metadata": {},
   "source": [
    "### Visualizations"
   ]
  },
  {
   "cell_type": "code",
   "execution_count": null,
   "metadata": {},
   "outputs": [],
   "source": [
    "from CBO.visualizations import visualize_trajectory_convergence"
   ]
  },
  {
   "cell_type": "markdown",
   "metadata": {},
   "source": [
    "This function will plot the convergence of CBO. More specifically, it plots the $\\frac{V^N(\\rho_t^N)}{V^N(\\rho_0^N)}$ over the optimization duration, and compares it with the theoretical convergence. It allows specifying the `output_path` argument to save the plot."
   ]
  },
  {
   "cell_type": "code",
   "execution_count": null,
   "metadata": {},
   "outputs": [],
   "source": [
    "visualize_trajectory_convergence(trajectory, 0, display_exponent=True, exp_sigma=0.2)"
   ]
  },
  {
   "cell_type": "markdown",
   "metadata": {},
   "source": [
    "Additionally, it is possible to visualize the trajectory as a gif. However, it is only supported for 1d functions at the moment."
   ]
  },
  {
   "cell_type": "code",
   "execution_count": null,
   "metadata": {},
   "outputs": [],
   "source": [
    "from CBO.visualizations import visualize_trajectory_1d"
   ]
  },
  {
   "cell_type": "code",
   "execution_count": null,
   "metadata": {},
   "outputs": [],
   "source": [
    "visualize_trajectory_1d(trajectory, rastrigin_c(2.5), x_range=(-5, 5), output_path='example.gif')"
   ]
  },
  {
   "cell_type": "markdown",
   "metadata": {},
   "source": [
    "It is possible to load the gif into the jupyter notebook in the following way:"
   ]
  },
  {
   "cell_type": "code",
   "execution_count": null,
   "metadata": {},
   "outputs": [],
   "source": [
    "from IPython.display import Image\n",
    "Image(url='example.gif')"
   ]
  },
  {
   "cell_type": "markdown",
   "metadata": {},
   "source": [
    "Optimization success depends on the set of its arguments. One can use the `minimize_for_ranges` function for these purposes:"
   ]
  },
  {
   "cell_type": "code",
   "execution_count": 12,
   "metadata": {},
   "outputs": [],
   "source": [
    "from CBO.minimize import minimize_for_ranges"
   ]
  },
  {
   "cell_type": "markdown",
   "metadata": {},
   "source": [
    "This function has an interface similar to the minimize function interface. Additionally, it can take the following arguments: `alphas`, `ns_particles`, `sigmas`, `dts`. These arguments are optional. minimize_for_ranges will generate a list of all the possible combinations of argument values (~ Cartesian product) and conduct an optimization for each of them. Another additional argument, `n_repeats`, specifies how many times to repeat the optimization for each configuration. The function will return all the `n_repeats` found minimizer for each configuration."
   ]
  },
  {
   "cell_type": "markdown",
   "metadata": {},
   "source": [
    "Set the `verbose` argument to `True` to display the progress bars."
   ]
  },
  {
   "cell_type": "code",
   "execution_count": 13,
   "metadata": {},
   "outputs": [],
   "source": [
    "results = minimize_for_ranges(rastrigin_c(2.5), dimensionality=1, time_horizon=2, \n",
    "                              default_optimizer_config = {\n",
    "                                  'sigma': 0.2,\n",
    "                              },\n",
    "                              initial_distribution=Normal(2, 3),\n",
    "                              alphas=[10, 100, 1000, 10000],\n",
    "                              ns_particles=range(10, 101, 10),\n",
    "                              n_repeats=10, verbose=False)"
   ]
  },
  {
   "cell_type": "markdown",
   "metadata": {},
   "source": [
    "To visualize the obtained results, one can use the `visualize_minimization_successfulness` function from the `CBO.visualizations`:"
   ]
  },
  {
   "cell_type": "code",
   "execution_count": 14,
   "metadata": {},
   "outputs": [],
   "source": [
    "from CBO.visualizations import visualize_minimization_successfulness"
   ]
  },
  {
   "cell_type": "markdown",
   "metadata": {},
   "source": [
    "This function takes the produced above results as well two names of arguments (`alpha` / `n_particles` / `sigma`, `dt`) to use as x-axis and y-axis variables. The most important argument of this function is success_criterion: a function that identifies by the found minimizer if the optimization was successful or not."
   ]
  },
  {
   "cell_type": "code",
   "execution_count": 16,
   "metadata": {},
   "outputs": [
    {
     "data": {
      "image/png": "[encoded data removed]",
      "text/plain": [
       "<Figure size 720x720 with 2 Axes>"
      ]
     },
     "metadata": {
      "needs_background": "light"
     },
     "output_type": "display_data"
    }
   ],
   "source": [
    "visualize_minimization_successfulness('alpha', 'n_particles', results, \n",
    "                                      success_criterion=lambda v: abs(v) < 0.2)"
   ]
  }
 ],
 "metadata": {
  "kernelspec": {
   "display_name": "Python 3",
   "language": "python",
   "name": "python3"
  },
  "language_info": {
   "codemirror_mode": {
    "name": "ipython",
    "version": 3
   },
   "file_extension": ".py",
   "mimetype": "text/x-python",
   "name": "python",
   "nbconvert_exporter": "python",
   "pygments_lexer": "ipython3",
   "version": "3.7.6"
  }
 },
 "nbformat": 4,
 "nbformat_minor": 4
}

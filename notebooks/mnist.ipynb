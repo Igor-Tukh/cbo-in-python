{
 "cells": [
  {
   "cell_type": "markdown",
   "metadata": {},
   "source": [
    "## Imports"
   ]
  },
  {
   "cell_type": "code",
   "execution_count": 1,
   "metadata": {
    "pycharm": {
     "is_executing": true
    }
   },
   "outputs": [],
   "source": [
    "import os\n",
    "import sys\n",
    "import datetime"
   ]
  },
  {
   "cell_type": "code",
   "execution_count": 2,
   "metadata": {},
   "outputs": [],
   "source": [
    "sys.path.append(os.path.join(os.pardir, 'src'))"
   ]
  },
  {
   "cell_type": "code",
   "execution_count": 3,
   "metadata": {},
   "outputs": [],
   "source": [
    "import tensorflow as tf\n",
    "import tensorflow_datasets as tfds\n",
    "import numpy as np\n",
    "import matplotlib.pyplot as plt"
   ]
  },
  {
   "cell_type": "code",
   "execution_count": 4,
   "metadata": {},
   "outputs": [],
   "source": [
    "mnist = tf.keras.datasets.mnist"
   ]
  },
  {
   "cell_type": "code",
   "execution_count": 5,
   "metadata": {},
   "outputs": [],
   "source": [
    "from tqdm.notebook import tqdm"
   ]
  },
  {
   "cell_type": "code",
   "execution_count": 46,
   "metadata": {
    "pycharm": {
     "name": "#%%\n"
    }
   },
   "outputs": [],
   "source": [
    "from CBO.distributions import Normal\n",
    "from CBO.functions import rastrigin, rastrigin_c, square\n",
    "from CBO.minimize import minimize\n",
    "from CBO.visualizations import visualize_trajectory_convergence\n",
    "from CBO.train import train, NeuralNetworkObjectiveFunction, TensorboardLogging, compute_model_dimensionality"
   ]
  },
  {
   "cell_type": "markdown",
   "metadata": {},
   "source": [
    "## Data preparation"
   ]
  },
  {
   "cell_type": "code",
   "execution_count": 7,
   "metadata": {},
   "outputs": [],
   "source": [
    "def normalize_img(image, label):\n",
    "    return tf.cast(image, tf.float32) / 255., label\n",
    "\n",
    "def load_mnist_data():\n",
    "    (X_train, y_train),(X_test, y_test) = mnist.load_data()\n",
    "    X_train, X_test = X_train / 255.0, X_test / 255.0\n",
    "    return X_train, X_test, y_train, y_test"
   ]
  },
  {
   "cell_type": "code",
   "execution_count": 8,
   "metadata": {},
   "outputs": [],
   "source": [
    "X_train, X_test, y_train, y_test = load_mnist_data()"
   ]
  },
  {
   "cell_type": "markdown",
   "metadata": {},
   "source": [
    "## Model training"
   ]
  },
  {
   "cell_type": "code",
   "execution_count": 9,
   "metadata": {},
   "outputs": [],
   "source": [
    "def build_default_model():\n",
    "    return tf.keras.models.Sequential([\n",
    "      tf.keras.layers.Flatten(input_shape=(28, 28)),\n",
    "      tf.keras.layers.Dense(128, activation='relu'),\n",
    "      tf.keras.layers.Dense(10)\n",
    "    ])"
   ]
  },
  {
   "cell_type": "code",
   "execution_count": 10,
   "metadata": {},
   "outputs": [],
   "source": [
    "def build_small_model():\n",
    "    return tf.keras.models.Sequential([\n",
    "      tf.keras.layers.Flatten(input_shape=(28, 28)),\n",
    "      tf.keras.layers.Dense(10, activation='relu'),\n",
    "      tf.keras.layers.BatchNormalization(),\n",
    "      tf.keras.layers.Dense(10, activation='relu'),\n",
    "    ])"
   ]
  },
  {
   "cell_type": "code",
   "execution_count": 11,
   "metadata": {},
   "outputs": [],
   "source": [
    "loss = tf.keras.losses.SparseCategoricalCrossentropy(from_logits=True)"
   ]
  },
  {
   "cell_type": "code",
   "execution_count": 12,
   "metadata": {},
   "outputs": [],
   "source": [
    "! rm -rf logs/fit"
   ]
  },
  {
   "cell_type": "code",
   "execution_count": 13,
   "metadata": {},
   "outputs": [],
   "source": [
    "def conduct_tf_training(model, X_train, X_test, y_train, y_test, with_tensorboard=False,\n",
    "                        model_description='', epoches=10):\n",
    "    model.compile(optimizer=tf.keras.optimizers.Adam(0.001),\n",
    "                  loss=tf.keras.losses.SparseCategoricalCrossentropy(from_logits=True),\n",
    "                  metrics=[tf.keras.metrics.SparseCategoricalAccuracy()])\n",
    "    \n",
    "    if with_tensorboard:\n",
    "        log_dir = 'logs/fit/' + model_description\n",
    "        if model_description is '':\n",
    "            log_dir += datetime.datetime.now().strftime(\"%Y%m%d-%H%M%S\")\n",
    "        tensorboard_callback = tf.keras.callbacks.TensorBoard(log_dir=log_dir, histogram_freq=1)\n",
    "        model.fit(x=X_train, y=y_train, epochs=epoches, validation_data=(X_test, y_test),\n",
    "                  callbacks=[tensorboard_callback])\n",
    "    else:\n",
    "        model.fit(x=X_train, y=y_train, epochs=epoches, validation_data=(X_test, y_test))\n",
    "    \n",
    "    return model"
   ]
  },
  {
   "cell_type": "code",
   "execution_count": 14,
   "metadata": {},
   "outputs": [],
   "source": [
    "tensorboard_logging = TensorboardLogging('cbo_small', 'logs/fit')"
   ]
  },
  {
   "cell_type": "code",
   "execution_count": 15,
   "metadata": {},
   "outputs": [
    {
     "data": {
      "application/vnd.jupyter.widget-view+json": {
       "model_id": "da82f3330af34f07a1b040d2f882544c",
       "version_major": 2,
       "version_minor": 0
      },
      "text/plain": [
       "HBox(children=(FloatProgress(value=0.0, max=60.0), HTML(value='')))"
      ]
     },
     "metadata": {},
     "output_type": "display_data"
    },
    {
     "name": "stdout",
     "output_type": "stream",
     "text": [
      "\n",
      "Timestamp: 6.0, loss: 2.308837890625, validation loss: 2.308980941772461\n"
     ]
    }
   ],
   "source": [
    "cbo_small_model, trajectory = train(build_small_model(), loss, X_train, y_train, n_particles=100, \n",
    "                                    time_horizon=4,\n",
    "                                    optimizer_config = {'alpha': 10, 'sigma': 0.4**0.5, 'dt': 0.1}, \n",
    "                                    initial_distribution=Normal(0, 1),\n",
    "                                    return_trajectory=True, verbose=True, particles_batches=10, \n",
    "                                    dataset_batches=60, X_val=X_test, y_val=y_test, \n",
    "                                    tensorboard_logging=tensorboard_logging)"
   ]
  },
  {
   "cell_type": "code",
   "execution_count": 18,
   "metadata": {},
   "outputs": [
    {
     "name": "stdout",
     "output_type": "stream",
     "text": [
      "Epoch 1/20\n",
      "1875/1875 [==============================] - 3s 2ms/step - loss: 0.5648 - sparse_categorical_accuracy: 0.8514 - val_loss: 0.3170 - val_sparse_categorical_accuracy: 0.9072\n",
      "Epoch 2/20\n",
      "1875/1875 [==============================] - 3s 1ms/step - loss: 0.3189 - sparse_categorical_accuracy: 0.9060 - val_loss: 0.2785 - val_sparse_categorical_accuracy: 0.9194\n",
      "Epoch 3/20\n",
      "1875/1875 [==============================] - 3s 1ms/step - loss: 0.2950 - sparse_categorical_accuracy: 0.9140 - val_loss: 0.2839 - val_sparse_categorical_accuracy: 0.9173\n",
      "Epoch 4/20\n",
      "1875/1875 [==============================] - 3s 2ms/step - loss: 0.2832 - sparse_categorical_accuracy: 0.9162 - val_loss: 0.2601 - val_sparse_categorical_accuracy: 0.9229\n",
      "Epoch 5/20\n",
      "1875/1875 [==============================] - 3s 2ms/step - loss: 0.2780 - sparse_categorical_accuracy: 0.9190 - val_loss: 0.2548 - val_sparse_categorical_accuracy: 0.9267\n",
      "Epoch 6/20\n",
      "1875/1875 [==============================] - 3s 1ms/step - loss: 0.2682 - sparse_categorical_accuracy: 0.9218 - val_loss: 0.2477 - val_sparse_categorical_accuracy: 0.9291\n",
      "Epoch 7/20\n",
      "1875/1875 [==============================] - 3s 1ms/step - loss: 0.2600 - sparse_categorical_accuracy: 0.9235 - val_loss: 0.2428 - val_sparse_categorical_accuracy: 0.9281\n",
      "Epoch 8/20\n",
      "1875/1875 [==============================] - 3s 2ms/step - loss: 0.2584 - sparse_categorical_accuracy: 0.9250 - val_loss: 0.2411 - val_sparse_categorical_accuracy: 0.9318\n",
      "Epoch 9/20\n",
      "1875/1875 [==============================] - 3s 1ms/step - loss: 0.2539 - sparse_categorical_accuracy: 0.9256 - val_loss: 0.2420 - val_sparse_categorical_accuracy: 0.9298\n",
      "Epoch 10/20\n",
      "1875/1875 [==============================] - 2s 1ms/step - loss: 0.2509 - sparse_categorical_accuracy: 0.9273 - val_loss: 0.2476 - val_sparse_categorical_accuracy: 0.9292\n",
      "Epoch 11/20\n",
      "1875/1875 [==============================] - 3s 1ms/step - loss: 0.2487 - sparse_categorical_accuracy: 0.9273 - val_loss: 0.2557 - val_sparse_categorical_accuracy: 0.9274\n",
      "Epoch 12/20\n",
      "1875/1875 [==============================] - 2s 1ms/step - loss: 0.2454 - sparse_categorical_accuracy: 0.9279 - val_loss: 0.2442 - val_sparse_categorical_accuracy: 0.9307\n",
      "Epoch 13/20\n",
      "1875/1875 [==============================] - 3s 1ms/step - loss: 0.2450 - sparse_categorical_accuracy: 0.9280 - val_loss: 0.2509 - val_sparse_categorical_accuracy: 0.9263\n",
      "Epoch 14/20\n",
      "1875/1875 [==============================] - 3s 1ms/step - loss: 0.2397 - sparse_categorical_accuracy: 0.9290 - val_loss: 0.2463 - val_sparse_categorical_accuracy: 0.9290\n",
      "Epoch 15/20\n",
      "1875/1875 [==============================] - 3s 1ms/step - loss: 0.2390 - sparse_categorical_accuracy: 0.9302 - val_loss: 0.2485 - val_sparse_categorical_accuracy: 0.9287\n",
      "Epoch 16/20\n",
      "1875/1875 [==============================] - 3s 2ms/step - loss: 0.2388 - sparse_categorical_accuracy: 0.9291 - val_loss: 0.2435 - val_sparse_categorical_accuracy: 0.9301\n",
      "Epoch 17/20\n",
      "1875/1875 [==============================] - 3s 1ms/step - loss: 0.2350 - sparse_categorical_accuracy: 0.9308 - val_loss: 0.2355 - val_sparse_categorical_accuracy: 0.9326\n",
      "Epoch 18/20\n",
      "1875/1875 [==============================] - 3s 1ms/step - loss: 0.2331 - sparse_categorical_accuracy: 0.9309 - val_loss: 0.2478 - val_sparse_categorical_accuracy: 0.9309\n",
      "Epoch 19/20\n",
      "1875/1875 [==============================] - 3s 1ms/step - loss: 0.2338 - sparse_categorical_accuracy: 0.9314 - val_loss: 0.2470 - val_sparse_categorical_accuracy: 0.9300\n",
      "Epoch 20/20\n",
      "1875/1875 [==============================] - 3s 1ms/step - loss: 0.2338 - sparse_categorical_accuracy: 0.9312 - val_loss: 0.2418 - val_sparse_categorical_accuracy: 0.9289\n"
     ]
    }
   ],
   "source": [
    "adam_small_model = conduct_tf_training(build_small_model(),\n",
    "                                       X_train, X_test, y_train, y_test,\n",
    "                                       with_tensorboard=True,\n",
    "                                       model_description='adam_small', epoches=20)"
   ]
  },
  {
   "cell_type": "code",
   "execution_count": 29,
   "metadata": {},
   "outputs": [
    {
     "data": {
      "image/png": "[encoded data removed]",
      "text/plain": [
       "<Figure size 432x288 with 1 Axes>"
      ]
     },
     "metadata": {
      "needs_background": "light"
     },
     "output_type": "display_data"
    },
    {
     "data": {
      "text/plain": [
       "0.105"
      ]
     },
     "execution_count": 29,
     "metadata": {},
     "output_type": "execute_result"
    }
   ],
   "source": [
    "y_pred = tf.nn.softmax(cbo_small_model(X_train))\n",
    "y_pred = np.argmax(y_pred.numpy(), axis=1)\n",
    "plt.hist(y_pred)\n",
    "plt.show()\n",
    "np.mean(y_pred == y_train)"
   ]
  },
  {
   "cell_type": "code",
   "execution_count": 38,
   "metadata": {},
   "outputs": [],
   "source": [
    "def visualize_particle_path_1d(trajectory, particle_ind, projection_dimenssion):\n",
    "    timestamps = list(sorted(list(trajectory.keys())))\n",
    "    particle_positions = [trajectory[ts]['particles'][particle_ind][projection_dimenssion]\n",
    "                          for ts in timestamps]\n",
    "    plt.clf()\n",
    "    plt.plot(timestamps, particle_positions)\n",
    "    plt.xlabel('Timestamp')\n",
    "    plt.ylabel('Particle position')\n",
    "    plt.show()\n",
    "    \n",
    "def visalize_particles_shift(trajectory):\n",
    "    timestamps = list(sorted(list(trajectory.keys())))\n",
    "    shifts = []\n",
    "    for ind, ts in enumerate(timestamps[:-1]):\n",
    "        shifts.append(tf.norm(trajectory[ts]['particles'] - trajectory[timestamps[ind + 1]]['particles'],\n",
    "                              ord='euclidean'))\n",
    "    plt.clf()\n",
    "    plt.plot(timestamps[1:], shifts)\n",
    "    plt.xlabel('Timestamp')\n",
    "    plt.ylabel('Shift')\n",
    "    plt.show()\n",
    "    \n",
    "def visalize_particles_std(trajectory, logarithmic=False):\n",
    "    timestamps = list(sorted(list(trajectory.keys())))\n",
    "    stds = []\n",
    "    for ts in timestamps:\n",
    "        stds.append(tf.math.reduce_std(trajectory[ts]['particles']))\n",
    "    if logarithmic:\n",
    "        stds = np.log(stds)\n",
    "    plt.clf()\n",
    "    plt.plot(timestamps, stds)\n",
    "    plt.xlabel('Timestamp')\n",
    "    plt.ylabel('Std')\n",
    "    plt.show()\n",
    "\n",
    "# contrains accuracies from different batches!\n",
    "def visualize_cbo_accuracy(trajectory):\n",
    "    timestamps = list(sorted(list(trajectory.keys())))\n",
    "    accuracies = [trajectory[ts]['accuracy'] for ts in timestamps]\n",
    "    plt.clf()\n",
    "    plt.plot(timestamps, accuracies)\n",
    "    plt.xlabel('Timestamp')\n",
    "    plt.ylabel('Accuracy')\n",
    "    plt.show()"
   ]
  },
  {
   "cell_type": "code",
   "execution_count": 31,
   "metadata": {},
   "outputs": [
    {
     "data": {
      "image/png": "[encoded data removed]",
      "text/plain": [
       "<Figure size 432x288 with 1 Axes>"
      ]
     },
     "metadata": {
      "needs_background": "light"
     },
     "output_type": "display_data"
    }
   ],
   "source": [
    "visualize_particle_path_1d(trajectory, 0, 0)"
   ]
  },
  {
   "cell_type": "code",
   "execution_count": 32,
   "metadata": {},
   "outputs": [
    {
     "data": {
      "image/png": "[encoded data removed]",
      "text/plain": [
       "<Figure size 432x288 with 1 Axes>"
      ]
     },
     "metadata": {
      "needs_background": "light"
     },
     "output_type": "display_data"
    }
   ],
   "source": [
    "visalize_particles_shift(trajectory)"
   ]
  },
  {
   "cell_type": "code",
   "execution_count": 33,
   "metadata": {},
   "outputs": [
    {
     "data": {
      "image/png": "[encoded data removed]",
      "text/plain": [
       "<Figure size 432x288 with 1 Axes>"
      ]
     },
     "metadata": {
      "needs_background": "light"
     },
     "output_type": "display_data"
    }
   ],
   "source": [
    "visalize_particles_std(trajectory)"
   ]
  },
  {
   "cell_type": "code",
   "execution_count": 37,
   "metadata": {},
   "outputs": [
    {
     "data": {
      "image/png": "[encoded data removed]",
      "text/plain": [
       "<Figure size 432x288 with 1 Axes>"
      ]
     },
     "metadata": {
      "needs_background": "light"
     },
     "output_type": "display_data"
    }
   ],
   "source": [
    "visualize_cbo_accuracy(trajectory)"
   ]
  },
  {
   "cell_type": "code",
   "execution_count": 39,
   "metadata": {},
   "outputs": [],
   "source": [
    "def update_model_parameters(model, parameters):\n",
    "    current_position = 0\n",
    "    for weight in model.trainable_weights:\n",
    "        next_position = current_position + tf.size(weight)\n",
    "        weight.assign(tf.reshape(parameters[current_position:next_position], weight.shape))\n",
    "        current_position = next_position\n",
    "    return model"
   ]
  },
  {
   "cell_type": "markdown",
   "metadata": {},
   "source": [
    "## Random initialization leads to unbalanced predictions of the initial model!"
   ]
  },
  {
   "cell_type": "code",
   "execution_count": 51,
   "metadata": {},
   "outputs": [
    {
     "data": {
      "image/png": "[encoded data removed]",
      "text/plain": [
       "<Figure size 432x288 with 1 Axes>"
      ]
     },
     "metadata": {
      "needs_background": "light"
     },
     "output_type": "display_data"
    }
   ],
   "source": [
    "model = build_small_model()\n",
    "initial_weights = tf.Variable(Normal(0, 1).sample(compute_model_dimensionality(model)))\n",
    "model = update_model_parameters(model, initial_weights)\n",
    "y_pred = np.argmax(tf.nn.softmax(model(X_train)), axis=1)\n",
    "plt.hist(y_pred)\n",
    "plt.show()"
   ]
  }
 ],
 "metadata": {
  "kernelspec": {
   "display_name": "Python 3",
   "language": "python",
   "name": "python3"
  },
  "language_info": {
   "codemirror_mode": {
    "name": "ipython",
    "version": 3
   },
   "file_extension": ".py",
   "mimetype": "text/x-python",
   "name": "python",
   "nbconvert_exporter": "python",
   "pygments_lexer": "ipython3",
   "version": "3.7.6"
  }
 },
 "nbformat": 4,
 "nbformat_minor": 4
}

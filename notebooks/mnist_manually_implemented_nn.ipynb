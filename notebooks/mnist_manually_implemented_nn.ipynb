{
 "cells": [
  {
   "cell_type": "code",
   "execution_count": 1,
   "metadata": {},
   "outputs": [],
   "source": [
    "import os\n",
    "import sys\n",
    "import datetime"
   ]
  },
  {
   "cell_type": "code",
   "execution_count": 2,
   "metadata": {},
   "outputs": [],
   "source": [
    "sys.path.append(os.path.join(os.pardir, 'src'))"
   ]
  },
  {
   "cell_type": "code",
   "execution_count": 3,
   "metadata": {},
   "outputs": [],
   "source": [
    "import matplotlib.pyplot as plt\n",
    "import numpy as np\n",
    "import scipy\n",
    "import tensorflow as tf"
   ]
  },
  {
   "cell_type": "code",
   "execution_count": 4,
   "metadata": {},
   "outputs": [],
   "source": [
    "mnist = tf.keras.datasets.mnist"
   ]
  },
  {
   "cell_type": "code",
   "execution_count": 5,
   "metadata": {},
   "outputs": [],
   "source": [
    "from tqdm.auto import tqdm\n",
    "from collections import defaultdict"
   ]
  },
  {
   "cell_type": "code",
   "execution_count": 6,
   "metadata": {},
   "outputs": [],
   "source": [
    "from CBO.distributions import Normal, NumpyNormal\n",
    "from CBO.functions import rastrigin, rastrigin_c, square\n",
    "from CBO.minimize import minimize\n",
    "from CBO.visualizations import visualize_trajectory_convergence\n",
    "from CBO.train import train, NeuralNetworkObjectiveFunction, TensorboardLogging, compute_model_dimensionality, UpdatableTfModel"
   ]
  },
  {
   "cell_type": "code",
   "execution_count": 7,
   "metadata": {},
   "outputs": [],
   "source": [
    "def load_mnist_data():\n",
    "    (X_train, y_train),(X_test, y_test) = mnist.load_data()\n",
    "    X_train, X_test = X_train / 255.0, X_test / 255.0\n",
    "    return X_train, X_test, y_train, y_test"
   ]
  },
  {
   "cell_type": "code",
   "execution_count": 8,
   "metadata": {},
   "outputs": [],
   "source": [
    "X_train, X_test, y_train, y_test = load_mnist_data()"
   ]
  },
  {
   "cell_type": "code",
   "execution_count": 9,
   "metadata": {},
   "outputs": [
    {
     "data": {
      "text/plain": [
       "<matplotlib.image.AxesImage at 0x7f46952d3590>"
      ]
     },
     "execution_count": 9,
     "metadata": {},
     "output_type": "execute_result"
    },
    {
     "data": {
      "image/png": "[encoded data removed]",
      "text/plain": [
       "<Figure size 432x288 with 1 Axes>"
      ]
     },
     "metadata": {
      "needs_background": "light"
     },
     "output_type": "display_data"
    }
   ],
   "source": [
    "plt.imshow(X_train[0], cmap=plt.get_cmap('gray'))"
   ]
  },
  {
   "cell_type": "code",
   "execution_count": 10,
   "metadata": {},
   "outputs": [],
   "source": [
    "class ShallowNN:\n",
    "    def __init__(self, target_shape=10, eps=1e-5):\n",
    "        self.target_shape = target_shape\n",
    "        self.W = None\n",
    "        self.b = None\n",
    "        self.eps = eps\n",
    "        \n",
    "    def init(self, X):\n",
    "        X = tf.reshape(X, (X.shape[0], -1))\n",
    "        self.W = tf.convert_to_tensor(np.random.normal(0, 1, (X.shape[1], self.target_shape)))\n",
    "        self.b = tf.convert_to_tensor(np.random.normal(0, 1, self.target_shape))\n",
    "        X_prime = X @ self.W + self.b\n",
    "        X_prime = tf.nn.relu(X_prime)\n",
    "        self.mean = tf.reshape(tf.reduce_mean(X_prime, axis=1), (-1, 1))\n",
    "        self.std = tf.reshape(tf.math.reduce_std(X_prime, axis=1), (-1, 1))\n",
    "        # print(self.mean, self.std)\n",
    "    \n",
    "    def set_weights(self, weights):\n",
    "        weights = tf.reshape(weights, -1)\n",
    "        expected_W_shape = tf.reshape(self.W, -1).shape[0]\n",
    "        expected_shape = expected_W_shape + tf.reshape(self.b, -1).shape[0]\n",
    "        if expected_shape != weights.shape[0]:\n",
    "            return RuntimeError(f'Provided tensor shape does not coincide with the expected: {exected_shape} != {weights.shape[0]}')\n",
    "        self.W = tf.reshape(weights[:expected_W_shape], self.W.shape)\n",
    "        self.b = tf.reshape(weights[expected_W_shape:], self.b.shape)\n",
    "        \n",
    "    def get_weights(self):\n",
    "        return tf.concat([tf.reshape(w, -1) for w in [self.W, self.b]], axis=0)\n",
    "    \n",
    "    def __call__(self, X):\n",
    "        X = tf.reshape(X, (X.shape[0], -1))\n",
    "        if self.W is None:\n",
    "            raise RuntimeError('Weights of the network aren\\'t initialized, call SmallNet.init')\n",
    "        Z = X @ self.W + self.b\n",
    "        Z = tf.nn.relu(Z)\n",
    "        Z = (Z - self.mean) / (self.std + self.eps)\n",
    "        return tf.nn.softmax(Z)"
   ]
  },
  {
   "cell_type": "code",
   "execution_count": 11,
   "metadata": {},
   "outputs": [],
   "source": [
    "model = ShallowNN()\n",
    "model.init(X_train)"
   ]
  },
  {
   "cell_type": "code",
   "execution_count": 12,
   "metadata": {},
   "outputs": [],
   "source": [
    "class MmistObjective:\n",
    "    def __init__(self, target_shape=10):\n",
    "        self.target_shape = target_shape\n",
    "        self.model = ShallowNN(target_shape=target_shape)\n",
    "        self.loss = tf.keras.losses.CategoricalCrossentropy()\n",
    "        self.X = None\n",
    "        self.y = None\n",
    "        \n",
    "    def set_dataset(self, X, y):\n",
    "        self.model.init(X)\n",
    "        self.X = X\n",
    "        self.y = tf.one_hot(y, self.target_shape)\n",
    "    \n",
    "    def __call__(self, weights):\n",
    "        self.model.set_weights(weights)\n",
    "        return self.loss(self.y, self.model(self.X))\n",
    "    \n",
    "    def predict(self):\n",
    "        return self.model(self.X)"
   ]
  },
  {
   "cell_type": "code",
   "execution_count": 13,
   "metadata": {},
   "outputs": [],
   "source": [
    "# for _ in range(100):\n",
    "objective = MmistObjective()\n",
    "objective.set_dataset(X_train[:1000], y_train[:1000])\n",
    "# print(objective(objective.model.get_weights()))"
   ]
  },
  {
   "cell_type": "code",
   "execution_count": 14,
   "metadata": {},
   "outputs": [
    {
     "name": "stderr",
     "output_type": "stream",
     "text": [
      "100%|██████████| 81/81 [08:55<00:00,  6.61s/it]\n"
     ]
    }
   ],
   "source": [
    "minimizer, trajectory = minimize(objective, dimensionality=model.get_weights().shape[0], n_particles=100, \n",
    "                                 time_horizon=8, \n",
    "                                 return_trajectory=True, optimizer_config = {\n",
    "                                     'alpha': 50,\n",
    "                                     'sigma': 0.4**0.5,\n",
    "                                     'dt': 0.1,\n",
    "                                 },\n",
    "                                 n_batches=10,\n",
    "                                 initial_distribution=NumpyNormal())"
   ]
  },
  {
   "cell_type": "code",
   "execution_count": 15,
   "metadata": {},
   "outputs": [
    {
     "data": {
      "text/plain": [
       "<tf.Tensor: shape=(), dtype=float64, numpy=2.3347246646881104>"
      ]
     },
     "execution_count": 15,
     "metadata": {},
     "output_type": "execute_result"
    }
   ],
   "source": [
    "objective(minimizer)"
   ]
  },
  {
   "cell_type": "code",
   "execution_count": 16,
   "metadata": {},
   "outputs": [],
   "source": [
    "predictions = tf.math.argmax(objective.predict(), axis=1)[:1000]"
   ]
  },
  {
   "cell_type": "code",
   "execution_count": 17,
   "metadata": {},
   "outputs": [
    {
     "data": {
      "text/plain": [
       "108"
      ]
     },
     "execution_count": 17,
     "metadata": {},
     "output_type": "execute_result"
    }
   ],
   "source": [
    "np.sum(predictions==y_train[:1000])"
   ]
  },
  {
   "cell_type": "code",
   "execution_count": 18,
   "metadata": {},
   "outputs": [
    {
     "data": {
      "text/plain": [
       "<tf.Tensor: shape=(10, 10), dtype=int32, numpy=\n",
       "array([[  8,   0,  70,   3,   0,   9,   0,   1,   0,   6],\n",
       "       [  4,   7,  96,   0,   0,   0,   0,   8,   0,   1],\n",
       "       [  2,   0,  78,   0,   0,  12,   0,   2,   0,   5],\n",
       "       [  6,   0,  83,   0,   0,   2,   0,   0,   0,   2],\n",
       "       [  2,   0, 102,   0,   0,   0,   0,   0,   0,   1],\n",
       "       [ 17,   0,  61,   1,   0,   4,   0,   7,   0,   2],\n",
       "       [  0,   0,  92,   0,   0,   0,   0,   1,   0,   1],\n",
       "       [ 38,   4,  41,   3,   0,  16,   0,   3,   0,  12],\n",
       "       [  2,   0,  78,   1,   0,   0,   0,   4,   0,   2],\n",
       "       [  3,   1,  71,   2,   0,   3,   0,  12,   0,   8]], dtype=int32)>"
      ]
     },
     "execution_count": 18,
     "metadata": {},
     "output_type": "execute_result"
    }
   ],
   "source": [
    "tf.math.confusion_matrix(y_train[:1000], predictions)"
   ]
  }
 ],
 "metadata": {
  "kernelspec": {
   "display_name": "Python 3",
   "language": "python",
   "name": "python3"
  },
  "language_info": {
   "codemirror_mode": {
    "name": "ipython",
    "version": 3
   },
   "file_extension": ".py",
   "mimetype": "text/x-python",
   "name": "python",
   "nbconvert_exporter": "python",
   "pygments_lexer": "ipython3",
   "version": "3.7.6"
  }
 },
 "nbformat": 4,
 "nbformat_minor": 4
}
